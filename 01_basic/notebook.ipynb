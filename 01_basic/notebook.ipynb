{
 "cells": [
  {
   "cell_type": "markdown",
   "id": "b0f06fc7",
   "metadata": {},
   "source": [
    "## Exemplo 01"
   ]
  },
  {
   "cell_type": "code",
   "execution_count": 1,
   "id": "ae55af47",
   "metadata": {},
   "outputs": [],
   "source": [
    "def read_items(*args, **kwargs):\n",
    "    return {\"args\": args, \"kwargs\": kwargs}"
   ]
  },
  {
   "cell_type": "code",
   "execution_count": 2,
   "id": "340e82bd",
   "metadata": {},
   "outputs": [
    {
     "data": {
      "text/plain": [
       "{'args': (1, 2, 3), 'kwargs': {'a': 4, 'b': 5}}"
      ]
     },
     "execution_count": 2,
     "metadata": {},
     "output_type": "execute_result"
    }
   ],
   "source": [
    "read_items(1,2,3, a=4, b=5)"
   ]
  },
  {
   "cell_type": "markdown",
   "id": "020fd510",
   "metadata": {},
   "source": []
  },
  {
   "cell_type": "code",
   "execution_count": null,
   "id": "6c8d6a1d",
   "metadata": {},
   "outputs": [],
   "source": []
  }
 ],
 "metadata": {
  "kernelspec": {
   "display_name": "venv",
   "language": "python",
   "name": "python3"
  },
  "language_info": {
   "codemirror_mode": {
    "name": "ipython",
    "version": 3
   },
   "file_extension": ".py",
   "mimetype": "text/x-python",
   "name": "python",
   "nbconvert_exporter": "python",
   "pygments_lexer": "ipython3",
   "version": "3.12.3"
  }
 },
 "nbformat": 4,
 "nbformat_minor": 5
}
